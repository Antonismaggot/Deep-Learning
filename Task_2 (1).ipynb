{
  "cells": [
    {
      "cell_type": "code",
      "execution_count": 83,
      "id": "e4cfaa9b",
      "metadata": {
        "id": "e4cfaa9b"
      },
      "outputs": [],
      "source": [
        "import numpy as np\n",
        "import matplotlib.pyplot as plt\n",
        "import random\n",
        "import functools"
      ]
    },
    {
      "cell_type": "code",
      "execution_count": 84,
      "id": "24fc7f6f",
      "metadata": {
        "id": "24fc7f6f"
      },
      "outputs": [],
      "source": [
        "x_train = np.loadtxt('/content/train_in.csv', delimiter = ',')\n",
        "y_train = np.loadtxt('/content/train_out.csv', delimiter = ',')\n",
        "\n",
        "x_test = np.loadtxt('/content/test_in.csv', delimiter = ',')\n",
        "y_test = np.loadtxt('/content/test_out.csv', delimiter = ',')"
      ]
    },
    {
      "cell_type": "code",
      "execution_count": 85,
      "id": "89f560b6",
      "metadata": {
        "scrolled": true,
        "id": "89f560b6"
      },
      "outputs": [],
      "source": [
        "## Train and Test are 1707x257\n",
        "Train = np.column_stack((np.ones(1707),x_train))\n",
        "Test = np.column_stack((np.ones(1000),x_test))\n",
        "\n",
        "\n",
        "# y = 1707x10 matrix with 0 and 1.\n",
        "y = np.zeros((y_train.shape[0],10))\n",
        "for i in range(y_train.shape[0]):\n",
        "    y[i][int(y_train[i])] = 1\n",
        "\n",
        "y_ = np.zeros((y_test.shape[0],10))\n",
        "for i in range(y_test.shape[0]):\n",
        "    y_[i][int(y_test[i])] = 1"
      ]
    },
    {
      "cell_type": "code",
      "execution_count": 86,
      "metadata": {
        "id": "Y-_0t8P7w5XL"
      },
      "outputs": [],
      "source": [
        "def sigmoid(z):\n",
        "    return 1/(1+np.exp(-z))"
      ],
      "id": "Y-_0t8P7w5XL"
    },
    {
      "cell_type": "markdown",
      "source": [
        "correct formula for weights update is: h\\* x \\* error \\* sigmoid(x) \\* (1-sigmoid(x)) \\\\\n",
        "correct formula is with comments"
      ],
      "metadata": {
        "id": "-JWSn4Ap6R3-"
      },
      "id": "-JWSn4Ap6R3-"
    },
    {
      "cell_type": "code",
      "execution_count": 87,
      "id": "765189a1",
      "metadata": {
        "id": "765189a1"
      },
      "outputs": [],
      "source": [
        "def initialize_parameters(x,y):\n",
        "    w = np.random.randn(x.shape[1],y.shape[1])*0.1 # w:257x10\n",
        "    return w\n",
        "    \n",
        "def forward_prop(x,w):\n",
        "    z = []\n",
        "    for i in range(x.shape[0]):\n",
        "        z.append(np.dot(x[i],w)) #z:1x10\n",
        "    Z = np.array(z)\n",
        "    pred = sigmoid(Z)\n",
        "    return pred\n",
        "\n",
        "def back_prop(x,y,z,h,w):\n",
        "    for i in range(x.shape[0]):\n",
        "        error = z[i] - y[i]\n",
        "        w-=h*np.dot(x[i].reshape(257, 1), error.reshape(10, 1).T)\n",
        "        # temp =  functools.reduce(np.dot, [x[i].reshape(257,1), error.reshape(10,1).T, z[i].reshape(10, 1), 1 - z[i]])\n",
        "        # w-=h*temp\n",
        "    return w\n",
        "    \n",
        "def fit(x,y,epochs,h):\n",
        "    w = initialize_parameters(x,y)\n",
        "    for e in range(epochs):\n",
        "        pred = forward_prop(x,w)\n",
        "        w = back_prop(x,y,pred,h,w)\n",
        "        cost = np.mean((pred-y)**2)\n",
        "        print(cost)\n",
        "    return pred, w"
      ]
    },
    {
      "cell_type": "code",
      "execution_count": 88,
      "id": "764c933e",
      "metadata": {
        "id": "764c933e",
        "outputId": "1a46fd93-a263-4ace-fa37-fcd6af9cdcfe",
        "colab": {
          "base_uri": "https://localhost:8080/"
        }
      },
      "outputs": [
        {
          "output_type": "stream",
          "name": "stdout",
          "text": [
            "0.3266952430937612\n",
            "0.222096377123745\n",
            "0.17014355513206983\n",
            "0.14363866402990838\n",
            "0.12835049448999444\n",
            "0.11849991426382396\n",
            "0.11158225585862236\n",
            "0.10638822951619911\n",
            "0.1022776275882366\n",
            "0.09888631539680724\n",
            "0.09599536300418678\n",
            "0.09346721075425152\n",
            "0.09121217479152777\n",
            "0.08916980981081923\n",
            "0.08729805847421379\n",
            "0.0855667201845769\n",
            "0.08395342462030826\n",
            "0.08244110445567009\n",
            "0.08101638395477836\n",
            "0.07966853416035398\n",
            "0.07838878163223102\n",
            "0.07716983967008122\n",
            "0.07600558114936919\n",
            "0.07489080299867137\n",
            "0.07382105133788641\n",
            "0.07279248792182386\n",
            "0.0718017856264154\n",
            "0.07084604504272614\n",
            "0.06992272689902784\n",
            "0.06902959667992091\n",
            "0.06816467885580409\n",
            "0.06732621881590163\n",
            "0.06651265105591928\n",
            "0.06572257249142731\n",
            "0.06495472000020881\n",
            "0.06420795147095536\n",
            "0.0634812297700425\n",
            "0.06277360914403628\n",
            "0.06208422366042176\n",
            "0.06141227735775525\n",
            "0.06075703583250749\n",
            "0.060117819035845\n",
            "0.05949399509143298\n",
            "0.058884974976554615\n",
            "0.05829020793464034\n",
            "0.05770917750866091\n",
            "0.05714139810255558\n",
            "0.05658641199258775\n",
            "0.05604378672277678\n",
            "0.055513112828779174\n",
            "0.05499400184314073\n",
            "0.0544860845420048\n",
            "0.05398900939937633\n",
            "0.05350244122010655\n",
            "0.05302605992703384\n",
            "0.052559559481327775\n",
            "0.05210264691814094\n",
            "0.05165504148226918\n",
            "0.05121647385072453\n",
            "0.0507866854310021\n",
            "0.05036542772542111\n",
            "0.0499524617532826\n",
            "0.04954755752375005\n",
            "0.04915049355335262\n",
            "0.04876105642286005\n",
            "0.04837904036900213\n",
            "0.04800424690712801\n",
            "0.04763648448142907\n",
            "0.04727556813980386\n",
            "0.04692131923083117\n",
            "0.04657356512064934\n",
            "0.0462321389278238\n",
            "0.045896879274528866\n",
            "0.04556763005257716\n",
            "0.04524424020300968\n",
            "0.044926563508112013\n",
            "0.04461445839485436\n",
            "0.04430778774886571\n",
            "0.04400641873815092\n",
            "0.04371022264584234\n",
            "0.043419074711351535\n",
            "0.04313285397934902\n",
            "0.04285144315605534\n",
            "0.04257472847237423\n",
            "0.04230259955344054\n",
            "0.0420349492941928\n",
            "0.04177167374061203\n",
            "0.041512671976297946\n",
            "0.04125784601407809\n",
            "0.041007100692369625\n",
            "0.040760343576032775\n",
            "0.040517484861473774\n",
            "0.0402784372857718\n",
            "0.04004311603961931\n",
            "0.03981143868387943\n",
            "0.039583325069575674\n",
            "0.039358697261141905\n",
            "0.03913747946277008\n",
            "0.038919597947704096\n",
            "0.03870498099033609\n"
          ]
        }
      ],
      "source": [
        "epochs = 100\n",
        "h = 0.00001\n",
        "pred , weights = fit(Train,y,epochs,h)"
      ]
    },
    {
      "cell_type": "markdown",
      "source": [
        "Train accuracy"
      ],
      "metadata": {
        "id": "NWbd8EOD3CLa"
      },
      "id": "NWbd8EOD3CLa"
    },
    {
      "cell_type": "code",
      "execution_count": 89,
      "id": "0bff7fa0",
      "metadata": {
        "id": "0bff7fa0",
        "outputId": "4c8d6fe3-4568-428f-a89c-ee2c7ff4fb99",
        "colab": {
          "base_uri": "https://localhost:8080/"
        }
      },
      "outputs": [
        {
          "output_type": "stream",
          "name": "stdout",
          "text": [
            "Number of correct guesses:  1391 accuracy:  0.814879906268307\n"
          ]
        }
      ],
      "source": [
        "predictions = []\n",
        "win = 0\n",
        "for i in range(len(pred)):\n",
        "    predictions.append(np.argmax(pred[i]))\n",
        "    if predictions[i] == y_train[i]:\n",
        "        win += 1\n",
        "print(\"Number of correct guesses: \", win, \"accuracy: \",win/Train.shape[0])"
      ]
    },
    {
      "cell_type": "markdown",
      "source": [
        "Test accuracy"
      ],
      "metadata": {
        "id": "r9Ftl5bm3GCh"
      },
      "id": "r9Ftl5bm3GCh"
    },
    {
      "cell_type": "code",
      "execution_count": 90,
      "id": "5f176056",
      "metadata": {
        "id": "5f176056",
        "colab": {
          "base_uri": "https://localhost:8080/"
        },
        "outputId": "516ad8cb-7551-46ff-d061-cf61151e700f"
      },
      "outputs": [
        {
          "output_type": "stream",
          "name": "stdout",
          "text": [
            "Number of correct guesses:  753 accuracy:  0.44112478031634444\n"
          ]
        }
      ],
      "source": [
        "for e in range(epochs):\n",
        "  preds_test = forward_prop(Test, weights)\n",
        "\n",
        "\n",
        "predictions_test = []\n",
        "win = 0\n",
        "for i in range(len(preds_test)):\n",
        "    predictions_test.append(np.argmax(preds_test[i]))\n",
        "    if predictions_test[i] == y_test[i]:\n",
        "        win += 1\n",
        "print(\"Number of correct guesses: \", win, \"accuracy: \",win/Train.shape[0])"
      ]
    },
    {
      "cell_type": "code",
      "source": [],
      "metadata": {
        "id": "hJh15MmD36Je"
      },
      "id": "hJh15MmD36Je",
      "execution_count": null,
      "outputs": []
    }
  ],
  "metadata": {
    "kernelspec": {
      "display_name": "Python 3",
      "language": "python",
      "name": "python3"
    },
    "language_info": {
      "codemirror_mode": {
        "name": "ipython",
        "version": 3
      },
      "file_extension": ".py",
      "mimetype": "text/x-python",
      "name": "python",
      "nbconvert_exporter": "python",
      "pygments_lexer": "ipython3",
      "version": "3.8.8"
    },
    "colab": {
      "provenance": []
    }
  },
  "nbformat": 4,
  "nbformat_minor": 5
}